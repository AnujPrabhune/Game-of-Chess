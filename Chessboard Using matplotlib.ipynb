{
 "cells": [
  {
   "cell_type": "code",
   "execution_count": 1,
   "id": "3dbd706d",
   "metadata": {},
   "outputs": [],
   "source": [
    "import matplotlib.pyplot as plt\n",
    "import numpy as np\n",
    "from matplotlib.colors import ListedColormap"
   ]
  },
  {
   "cell_type": "code",
   "execution_count": 2,
   "id": "6e03ee2f",
   "metadata": {},
   "outputs": [],
   "source": [
    "board = np.tile([1,0],(8,4))"
   ]
  },
  {
   "cell_type": "code",
   "execution_count": 3,
   "id": "a11a21e7",
   "metadata": {},
   "outputs": [],
   "source": [
    "for i in range(board.shape[0]):\n",
    "    board[i] = np.roll(board[i], i%2)"
   ]
  },
  {
   "cell_type": "code",
   "execution_count": 4,
   "id": "8db4170d",
   "metadata": {},
   "outputs": [
    {
     "data": {
      "image/png": "[encoded data removed]",
      "text/plain": [
       "<Figure size 288x288 with 1 Axes>"
      ]
     },
     "metadata": {},
     "output_type": "display_data"
    }
   ],
   "source": [
    "cmap = ListedColormap(['#779556','#ebecd0'])\n",
    "plt.matshow(board, cmap=cmap,)\n",
    "plt.xticks([])\n",
    "plt.yticks([])\n",
    "plt.show()"
   ]
  }
 ],
 "metadata": {
  "kernelspec": {
   "display_name": "Python 3",
   "language": "python",
   "name": "python3"
  },
  "language_info": {
   "codemirror_mode": {
    "name": "ipython",
    "version": 3
   },
   "file_extension": ".py",
   "mimetype": "text/x-python",
   "name": "python",
   "nbconvert_exporter": "python",
   "pygments_lexer": "ipython3",
   "version": "3.8.8"
  }
 },
 "nbformat": 4,
 "nbformat_minor": 5
}
